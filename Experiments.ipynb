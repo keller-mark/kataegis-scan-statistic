{
 "cells": [
  {
   "cell_type": "code",
   "execution_count": 7,
   "metadata": {},
   "outputs": [],
   "source": [
    "import os\n",
    "import pandas as pd\n",
    "import matplotlib.pyplot as plt\n",
    "import seaborn as sns\n",
    "\n",
    "from scan_stat import BernoulliScanStatistic, PoissonScanStatistic\n",
    "\n",
    "%matplotlib inline"
   ]
  },
  {
   "cell_type": "code",
   "execution_count": 8,
   "metadata": {},
   "outputs": [],
   "source": [
    "def load_df(input_dir = 'data'):\n",
    "    input_filenames = list(filter(lambda x: x.endswith(\".tsv\"), os.listdir(input_dir)))\n",
    "    df = None\n",
    "    for input_filename in input_filenames:\n",
    "        file_df = pd.read_csv(os.path.join(input_dir, input_filename), sep='\\t')\n",
    "        if df is None:\n",
    "            df = file_df\n",
    "        else:\n",
    "            df = df.append(file_df)\n",
    "    return df"
   ]
  },
  {
   "cell_type": "code",
   "execution_count": 13,
   "metadata": {},
   "outputs": [
    {
     "name": "stdout",
     "output_type": "stream",
     "text": [
      "[10670 10689 10619 ... 10790 10523 10679]\n",
      "[10252, 11015]\n",
      "[0 0 0 ... 0 0 0]\n",
      "[0, 0]\n"
     ]
    }
   ],
   "source": [
    "df = load_df()\n",
    "\n",
    "df.head()\n",
    "\n",
    "bss = BernoulliScanStatistic(df)\n",
    "bss.monte_carlo()\n",
    "\n",
    "pss = PoissonScanStatistic(df)\n",
    "pss.monte_carlo()"
   ]
  },
  {
   "cell_type": "code",
   "execution_count": null,
   "metadata": {},
   "outputs": [],
   "source": []
  }
 ],
 "metadata": {
  "kernelspec": {
   "display_name": "Python 3",
   "language": "python",
   "name": "python3"
  },
  "language_info": {
   "codemirror_mode": {
    "name": "ipython",
    "version": 3
   },
   "file_extension": ".py",
   "mimetype": "text/x-python",
   "name": "python",
   "nbconvert_exporter": "python",
   "pygments_lexer": "ipython3",
   "version": "3.6.5"
  }
 },
 "nbformat": 4,
 "nbformat_minor": 2
}
